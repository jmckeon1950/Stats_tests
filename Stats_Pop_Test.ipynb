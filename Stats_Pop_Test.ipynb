{
 "cells": [
  {
   "cell_type": "code",
   "execution_count": null,
   "id": "c53880c5-b3d1-40b7-89c5-9c76d0bdae7f",
   "metadata": {},
   "outputs": [],
   "source": [
    "#Statistical test for number of samples needed to be taken to verify hypothosis that proportion is equal"
   ]
  },
  {
   "cell_type": "code",
   "execution_count": null,
   "id": "af2f8293-86bc-4018-8c72-09ed8fa289bd",
   "metadata": {},
   "outputs": [],
   "source": [
    "import math\n",
    "\n",
    "def calculate_sample_size(N, Z, r, E):\n",
    "    \"\"\"\n",
    "    Calculate the sample size needed for estimating population proportions.\n",
    "\n",
    "    Args:\n",
    "    - N: Total population size\n",
    "    - Z: Z-score corresponding to the desired confidence level\n",
    "    - r: Estimated proportion of event in the population (e.g., proportion of black balls)\n",
    "    - E: Margin of error\n",
    "\n",
    "    Returns:\n",
    "    - n: Required sample size\n",
    "    \"\"\"\n",
    "\n",
    "    x = Z**2 * r * (100 - r)\n",
    "    numerator = N * x\n",
    "    denominator = ((N - 1) * E**2) + x\n",
    "    n = numerator / denominator\n",
    "    return math.ceil(n)\n",
    "\n",
    "def calculate_margin_of_error(N, n, Z, r):\n",
    "    \"\"\"\n",
    "    Calculate the margin of error for estimating population proportions.\n",
    "\n",
    "    Args:\n",
    "    - N: Total population size\n",
    "    - n: Sample size\n",
    "    - Z: Z-score corresponding to the desired confidence level\n",
    "    - r: Estimated proportion of event in the population (e.g., proportion of black balls)\n",
    "\n",
    "    Returns:\n",
    "    - E: Margin of error\n",
    "    \"\"\"\n",
    "    \n",
    "    x = Z**2 * r * (100 - r)\n",
    "    numerator = (N - n) * x\n",
    "    denominator = n * (N - 1)\n",
    "    E = math.sqrt(numerator / denominator)\n",
    "    return E\n",
    "\n",
    "# Example usage:\n",
    "N = 3241  # Total population size\n",
    "Z = 1.96  # Z-score for 95% confidence level\n",
    "r = 0.11   # Estimated proportion of event in the population (0.5 for maximum variability)\n",
    "E = 0.1  # Margin of error\n",
    "\n",
    "# Calculate required sample size\n",
    "n = calculate_sample_size(N, Z, r, E)\n",
    "print(\"Required sample size:\", n)\n",
    "\n",
    "# Calculate margin of error\n",
    "E_calculated = calculate_margin_of_error(N, n, Z, r)\n",
    "print(\"Calculated margin of error:\", E_calculated)\n"
   ]
  }
 ],
 "metadata": {
  "kernelspec": {
   "display_name": "Python 3 (ipykernel)",
   "language": "python",
   "name": "python3"
  },
  "language_info": {
   "codemirror_mode": {
    "name": "ipython",
    "version": 3
   },
   "file_extension": ".py",
   "mimetype": "text/x-python",
   "name": "python",
   "nbconvert_exporter": "python",
   "pygments_lexer": "ipython3",
   "version": "3.10.12"
  }
 },
 "nbformat": 4,
 "nbformat_minor": 5
}
